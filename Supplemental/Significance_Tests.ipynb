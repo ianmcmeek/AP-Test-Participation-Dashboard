{
 "cells": [
  {
   "cell_type": "markdown",
   "id": "87a562d7-ef7d-46a2-857b-9ea26678eedc",
   "metadata": {},
   "source": [
    "Following up on observations from the Plotly Dash app, this notebook conducts chi-square tests to determine the statistical signficance of under- and over- representation of different races among AP test takers."
   ]
  },
  {
   "cell_type": "code",
   "execution_count": 1,
   "id": "8e465682-f56c-4847-9497-fb6d0ff45022",
   "metadata": {},
   "outputs": [],
   "source": [
    "# Import required libraries - Pandas for importing and parsing data,\n",
    "# chi-square test from SciPy for significance testing \n",
    "from numpy import nan\n",
    "import pandas as pd\n",
    "from scipy.stats import chi2_contingency\n",
    "\n",
    "# Load dataframe\n",
    "df = pd.read_csv('participation_ratios.csv', index_col=1)\n",
    "df.drop(columns=['Unnamed: 0'], inplace=True) # Drop old index numbers"
   ]
  },
  {
   "cell_type": "code",
   "execution_count": 2,
   "id": "76bf5157-3072-42dd-8abc-554ab3f84968",
   "metadata": {},
   "outputs": [
    {
     "data": {
      "text/plain": [
       "Native American p-value     0\n",
       "Asian p-value               0\n",
       "Hispanic p-value            0\n",
       "Black p-value               0\n",
       "White p-value               0\n",
       "Pacific Islander p-value    0\n",
       "Multiracial p-value         0\n",
       "dtype: int64"
      ]
     },
     "execution_count": 2,
     "metadata": {},
     "output_type": "execute_result"
    }
   ],
   "source": [
    "# Create a list of all combinations of state/race for chi-square tests\n",
    "groups = ['Native American', 'Asian', 'Hispanic', 'Black', 'White', 'Pacific Islander', 'Multiracial']\n",
    "states = list(df.index)\n",
    "checks = [(state, group) for state in states for group in groups]\n",
    "\n",
    "# Add new columns to df to store p-values from chi-square tests\n",
    "for group in groups:\n",
    "    df[(group + ' p-value')] = nan\n",
    "\n",
    "# Run chi-square tests and fill in new columns\n",
    "for check in checks:\n",
    "    a = df.loc[check[0], (check[1] + ' Number AP')] # Took AP test & of given race\n",
    "    b = df.loc[check[0], (check[1] + ' Number')] - a # No AP test & of given race\n",
    "    c = df.loc[check[0], 'Total AP'] - a # Took AP test & different race\n",
    "    d = df.loc[check[0], 'Total'] - a - b - c # No AP test & different race (i.e. all other students)\n",
    "    chi2 = chi2_contingency([[a,b],[c,d]], correction=False)\n",
    "    df.loc[check[0], (check[1] + ' p-value')] = chi2[1]\n",
    "\n",
    "# See if there are any missing values\n",
    "df.filter(like='p-value').isnull().sum()"
   ]
  },
  {
   "cell_type": "markdown",
   "id": "8bc36128-cf21-4e96-aeae-b11fcd0e7ea7",
   "metadata": {},
   "source": [
    "---\n",
    "---\n",
    "Now that we have added p-values to the dataframe and verified that no values are missing, we apply a variety of filters and sorts to learn more about trends in under- and over- representation of different races."
   ]
  },
  {
   "cell_type": "code",
   "execution_count": 3,
   "id": "551598e2-f58b-432d-ad23-742dae6dd189",
   "metadata": {},
   "outputs": [
    {
     "data": {
      "text/plain": [
       "19"
      ]
     },
     "execution_count": 3,
     "metadata": {},
     "output_type": "execute_result"
    }
   ],
   "source": [
    "# Find total number of state/race pairs with PR>1 for Native American, Pacific Islander, or Multiracial students\n",
    "df[df['Native American Participation Ratio'] > 1].shape[0] +\\\n",
    "    df[df['Pacific Islander Participation Ratio'] > 1].shape[0] +\\\n",
    "    df[df['Multiracial Participation Ratio'] > 1].shape[0]"
   ]
  },
  {
   "cell_type": "code",
   "execution_count": 4,
   "id": "6a940e05-adf7-4194-8358-e4e321deb0e6",
   "metadata": {},
   "outputs": [],
   "source": [
    "# Make a list of dataframes filtered to show data with PR>1 for Native American, Pacific Islander, or Multiracial students\n",
    "list1 = []\n",
    "for group in ['Native American', 'Pacific Islander', 'Multiracial']:\n",
    "    df_temp = df[\n",
    "        (df[group + ' Participation Ratio']>1) & (df[group + ' p-value']<0.1)\n",
    "    ].filter(axis='columns', like=group)\n",
    "    \n",
    "    list1.append(df_temp)"
   ]
  },
  {
   "cell_type": "code",
   "execution_count": 5,
   "id": "5a3ea294-861b-49b5-a5f3-49ae75f221f0",
   "metadata": {},
   "outputs": [
    {
     "data": {
      "text/html": [
       "<div>\n",
       "<style scoped>\n",
       "    .dataframe tbody tr th:only-of-type {\n",
       "        vertical-align: middle;\n",
       "    }\n",
       "\n",
       "    .dataframe tbody tr th {\n",
       "        vertical-align: top;\n",
       "    }\n",
       "\n",
       "    .dataframe thead th {\n",
       "        text-align: right;\n",
       "    }\n",
       "</style>\n",
       "<table border=\"1\" class=\"dataframe\">\n",
       "  <thead>\n",
       "    <tr style=\"text-align: right;\">\n",
       "      <th></th>\n",
       "      <th>Native American Number</th>\n",
       "      <th>Native American Percent</th>\n",
       "      <th>Native American Number AP</th>\n",
       "      <th>Native American Percent AP</th>\n",
       "      <th>Native American Participation Ratio</th>\n",
       "      <th>Native American p-value</th>\n",
       "    </tr>\n",
       "    <tr>\n",
       "      <th>State</th>\n",
       "      <th></th>\n",
       "      <th></th>\n",
       "      <th></th>\n",
       "      <th></th>\n",
       "      <th></th>\n",
       "      <th></th>\n",
       "    </tr>\n",
       "  </thead>\n",
       "  <tbody>\n",
       "  </tbody>\n",
       "</table>\n",
       "</div>"
      ],
      "text/plain": [
       "Empty DataFrame\n",
       "Columns: [Native American Number, Native American Percent, Native American Number AP, Native American Percent AP, Native American Participation Ratio, Native American p-value]\n",
       "Index: []"
      ]
     },
     "execution_count": 5,
     "metadata": {},
     "output_type": "execute_result"
    }
   ],
   "source": [
    "list1[0] # States where Native American students are overrepresented"
   ]
  },
  {
   "cell_type": "code",
   "execution_count": 6,
   "id": "1d2c09ae-9385-48d9-a8d0-286003eb7abc",
   "metadata": {},
   "outputs": [
    {
     "data": {
      "text/html": [
       "<div>\n",
       "<style scoped>\n",
       "    .dataframe tbody tr th:only-of-type {\n",
       "        vertical-align: middle;\n",
       "    }\n",
       "\n",
       "    .dataframe tbody tr th {\n",
       "        vertical-align: top;\n",
       "    }\n",
       "\n",
       "    .dataframe thead th {\n",
       "        text-align: right;\n",
       "    }\n",
       "</style>\n",
       "<table border=\"1\" class=\"dataframe\">\n",
       "  <thead>\n",
       "    <tr style=\"text-align: right;\">\n",
       "      <th></th>\n",
       "      <th>Pacific Islander Number</th>\n",
       "      <th>Pacific Islander Percent</th>\n",
       "      <th>Pacific Islander Number AP</th>\n",
       "      <th>Pacific Islander Percent AP</th>\n",
       "      <th>Pacific Islander Participation Ratio</th>\n",
       "      <th>Pacific Islander p-value</th>\n",
       "    </tr>\n",
       "    <tr>\n",
       "      <th>State</th>\n",
       "      <th></th>\n",
       "      <th></th>\n",
       "      <th></th>\n",
       "      <th></th>\n",
       "      <th></th>\n",
       "      <th></th>\n",
       "    </tr>\n",
       "  </thead>\n",
       "  <tbody>\n",
       "    <tr>\n",
       "      <th>South Carolina</th>\n",
       "      <td>1049</td>\n",
       "      <td>0.1369</td>\n",
       "      <td>49</td>\n",
       "      <td>0.1780</td>\n",
       "      <td>1.300219</td>\n",
       "      <td>0.060518</td>\n",
       "    </tr>\n",
       "    <tr>\n",
       "      <th>Tennessee</th>\n",
       "      <td>1033</td>\n",
       "      <td>0.1035</td>\n",
       "      <td>36</td>\n",
       "      <td>0.1361</td>\n",
       "      <td>1.314976</td>\n",
       "      <td>0.094432</td>\n",
       "    </tr>\n",
       "  </tbody>\n",
       "</table>\n",
       "</div>"
      ],
      "text/plain": [
       "                Pacific Islander Number  Pacific Islander Percent  \\\n",
       "State                                                               \n",
       "South Carolina                     1049                    0.1369   \n",
       "Tennessee                          1033                    0.1035   \n",
       "\n",
       "                Pacific Islander Number AP  Pacific Islander Percent AP  \\\n",
       "State                                                                     \n",
       "South Carolina                          49                       0.1780   \n",
       "Tennessee                               36                       0.1361   \n",
       "\n",
       "                Pacific Islander Participation Ratio  Pacific Islander p-value  \n",
       "State                                                                           \n",
       "South Carolina                              1.300219                  0.060518  \n",
       "Tennessee                                   1.314976                  0.094432  "
      ]
     },
     "execution_count": 6,
     "metadata": {},
     "output_type": "execute_result"
    }
   ],
   "source": [
    "list1[1] # States where Pacific Islander students are overrepresented"
   ]
  },
  {
   "cell_type": "code",
   "execution_count": 7,
   "id": "e820f0c9-276b-47a6-b489-b202b096c9bf",
   "metadata": {},
   "outputs": [
    {
     "data": {
      "text/html": [
       "<div>\n",
       "<style scoped>\n",
       "    .dataframe tbody tr th:only-of-type {\n",
       "        vertical-align: middle;\n",
       "    }\n",
       "\n",
       "    .dataframe tbody tr th {\n",
       "        vertical-align: top;\n",
       "    }\n",
       "\n",
       "    .dataframe thead th {\n",
       "        text-align: right;\n",
       "    }\n",
       "</style>\n",
       "<table border=\"1\" class=\"dataframe\">\n",
       "  <thead>\n",
       "    <tr style=\"text-align: right;\">\n",
       "      <th></th>\n",
       "      <th>Multiracial Number</th>\n",
       "      <th>Multiracial Percent</th>\n",
       "      <th>Multiracial Number AP</th>\n",
       "      <th>Multiracial Percent AP</th>\n",
       "      <th>Multiracial Participation Ratio</th>\n",
       "      <th>Multiracial p-value</th>\n",
       "    </tr>\n",
       "    <tr>\n",
       "      <th>State</th>\n",
       "      <th></th>\n",
       "      <th></th>\n",
       "      <th></th>\n",
       "      <th></th>\n",
       "      <th></th>\n",
       "      <th></th>\n",
       "    </tr>\n",
       "  </thead>\n",
       "  <tbody>\n",
       "    <tr>\n",
       "      <th>District of Columbia</th>\n",
       "      <td>1578</td>\n",
       "      <td>1.9165</td>\n",
       "      <td>96</td>\n",
       "      <td>2.57028</td>\n",
       "      <td>1.341132</td>\n",
       "      <td>0.002857</td>\n",
       "    </tr>\n",
       "  </tbody>\n",
       "</table>\n",
       "</div>"
      ],
      "text/plain": [
       "                      Multiracial Number  Multiracial Percent  \\\n",
       "State                                                           \n",
       "District of Columbia                1578               1.9165   \n",
       "\n",
       "                      Multiracial Number AP  Multiracial Percent AP  \\\n",
       "State                                                                 \n",
       "District of Columbia                     96                 2.57028   \n",
       "\n",
       "                      Multiracial Participation Ratio  Multiracial p-value  \n",
       "State                                                                       \n",
       "District of Columbia                         1.341132             0.002857  "
      ]
     },
     "execution_count": 7,
     "metadata": {},
     "output_type": "execute_result"
    }
   ],
   "source": [
    "list1[2] # States where multiracial students are overrepresented"
   ]
  },
  {
   "cell_type": "markdown",
   "id": "d1be1485-a24f-4c6f-9a35-ab602c9cc1b4",
   "metadata": {},
   "source": [
    "**Takeaways:** Of 19 possible cases of overrepresentation for Native American, Pacific Islander, and multiracial students, only one turned out to be statistically significant. Two more were marginally significant. Even these cases involved <100 students of the given race taking an AP test."
   ]
  },
  {
   "cell_type": "markdown",
   "id": "5a9654b5-648b-4e1a-8fc7-fcdf84c35a44",
   "metadata": {},
   "source": [
    "---\n",
    "---\n",
    "The next objective is to examine the statistical significance of Black and Hispanic students being underrepresented in every state."
   ]
  },
  {
   "cell_type": "code",
   "execution_count": 8,
   "id": "074a0582-108d-4787-82f4-45af0e2e4f58",
   "metadata": {},
   "outputs": [
    {
     "data": {
      "text/html": [
       "<div>\n",
       "<style scoped>\n",
       "    .dataframe tbody tr th:only-of-type {\n",
       "        vertical-align: middle;\n",
       "    }\n",
       "\n",
       "    .dataframe tbody tr th {\n",
       "        vertical-align: top;\n",
       "    }\n",
       "\n",
       "    .dataframe thead th {\n",
       "        text-align: right;\n",
       "    }\n",
       "</style>\n",
       "<table border=\"1\" class=\"dataframe\">\n",
       "  <thead>\n",
       "    <tr style=\"text-align: right;\">\n",
       "      <th></th>\n",
       "      <th>Black Number</th>\n",
       "      <th>Black Percent</th>\n",
       "      <th>Black Number AP</th>\n",
       "      <th>Black Percent AP</th>\n",
       "      <th>Black Participation Ratio</th>\n",
       "      <th>Black p-value</th>\n",
       "    </tr>\n",
       "    <tr>\n",
       "      <th>State</th>\n",
       "      <th></th>\n",
       "      <th></th>\n",
       "      <th></th>\n",
       "      <th></th>\n",
       "      <th></th>\n",
       "      <th></th>\n",
       "    </tr>\n",
       "  </thead>\n",
       "  <tbody>\n",
       "  </tbody>\n",
       "</table>\n",
       "</div>"
      ],
      "text/plain": [
       "Empty DataFrame\n",
       "Columns: [Black Number, Black Percent, Black Number AP, Black Percent AP, Black Participation Ratio, Black p-value]\n",
       "Index: []"
      ]
     },
     "execution_count": 8,
     "metadata": {},
     "output_type": "execute_result"
    }
   ],
   "source": [
    "# Verify that Black PR is <1 for all states\n",
    "df[df['Black Participation Ratio']>1].filter(axis='columns', like='Black')"
   ]
  },
  {
   "cell_type": "code",
   "execution_count": 9,
   "id": "ce66ae62-fe45-4023-a7dc-fccecf8f2314",
   "metadata": {},
   "outputs": [
    {
     "data": {
      "text/html": [
       "<div>\n",
       "<style scoped>\n",
       "    .dataframe tbody tr th:only-of-type {\n",
       "        vertical-align: middle;\n",
       "    }\n",
       "\n",
       "    .dataframe tbody tr th {\n",
       "        vertical-align: top;\n",
       "    }\n",
       "\n",
       "    .dataframe thead th {\n",
       "        text-align: right;\n",
       "    }\n",
       "</style>\n",
       "<table border=\"1\" class=\"dataframe\">\n",
       "  <thead>\n",
       "    <tr style=\"text-align: right;\">\n",
       "      <th></th>\n",
       "      <th>Black Number</th>\n",
       "      <th>Black Percent</th>\n",
       "      <th>Black Number AP</th>\n",
       "      <th>Black Percent AP</th>\n",
       "      <th>Black Participation Ratio</th>\n",
       "      <th>Black p-value</th>\n",
       "    </tr>\n",
       "    <tr>\n",
       "      <th>State</th>\n",
       "      <th></th>\n",
       "      <th></th>\n",
       "      <th></th>\n",
       "      <th></th>\n",
       "      <th></th>\n",
       "      <th></th>\n",
       "    </tr>\n",
       "  </thead>\n",
       "  <tbody>\n",
       "    <tr>\n",
       "      <th>Hawaii</th>\n",
       "      <td>3532</td>\n",
       "      <td>1.9331</td>\n",
       "      <td>105</td>\n",
       "      <td>1.808800</td>\n",
       "      <td>0.935699</td>\n",
       "      <td>0.484458</td>\n",
       "    </tr>\n",
       "    <tr>\n",
       "      <th>Idaho</th>\n",
       "      <td>3184</td>\n",
       "      <td>1.0758</td>\n",
       "      <td>65</td>\n",
       "      <td>0.892000</td>\n",
       "      <td>0.829150</td>\n",
       "      <td>0.123599</td>\n",
       "    </tr>\n",
       "    <tr>\n",
       "      <th>South Dakota</th>\n",
       "      <td>3933</td>\n",
       "      <td>2.8699</td>\n",
       "      <td>60</td>\n",
       "      <td>2.467105</td>\n",
       "      <td>0.859649</td>\n",
       "      <td>0.229940</td>\n",
       "    </tr>\n",
       "  </tbody>\n",
       "</table>\n",
       "</div>"
      ],
      "text/plain": [
       "              Black Number  Black Percent  Black Number AP  Black Percent AP  \\\n",
       "State                                                                          \n",
       "Hawaii                3532         1.9331              105          1.808800   \n",
       "Idaho                 3184         1.0758               65          0.892000   \n",
       "South Dakota          3933         2.8699               60          2.467105   \n",
       "\n",
       "              Black Participation Ratio  Black p-value  \n",
       "State                                                   \n",
       "Hawaii                         0.935699       0.484458  \n",
       "Idaho                          0.829150       0.123599  \n",
       "South Dakota                   0.859649       0.229940  "
      ]
     },
     "execution_count": 9,
     "metadata": {},
     "output_type": "execute_result"
    }
   ],
   "source": [
    "# Look for states where the underrepresentation of Black students is not statistically significant\n",
    "df[df['Black p-value']>0.1].filter(axis='columns', like='Black')"
   ]
  },
  {
   "cell_type": "code",
   "execution_count": 10,
   "id": "66e17a8d-9d08-4bda-8a27-fc6868837770",
   "metadata": {},
   "outputs": [
    {
     "data": {
      "text/html": [
       "<div>\n",
       "<style scoped>\n",
       "    .dataframe tbody tr th:only-of-type {\n",
       "        vertical-align: middle;\n",
       "    }\n",
       "\n",
       "    .dataframe tbody tr th {\n",
       "        vertical-align: top;\n",
       "    }\n",
       "\n",
       "    .dataframe thead th {\n",
       "        text-align: right;\n",
       "    }\n",
       "</style>\n",
       "<table border=\"1\" class=\"dataframe\">\n",
       "  <thead>\n",
       "    <tr style=\"text-align: right;\">\n",
       "      <th></th>\n",
       "      <th>Hispanic Number</th>\n",
       "      <th>Hispanic Percent</th>\n",
       "      <th>Hispanic Number AP</th>\n",
       "      <th>Hispanic Percent AP</th>\n",
       "      <th>Hispanic Participation Ratio</th>\n",
       "      <th>Hispanic p-value</th>\n",
       "    </tr>\n",
       "    <tr>\n",
       "      <th>State</th>\n",
       "      <th></th>\n",
       "      <th></th>\n",
       "      <th></th>\n",
       "      <th></th>\n",
       "      <th></th>\n",
       "      <th></th>\n",
       "    </tr>\n",
       "  </thead>\n",
       "  <tbody>\n",
       "    <tr>\n",
       "      <th>District of Columbia</th>\n",
       "      <td>12720</td>\n",
       "      <td>15.4485</td>\n",
       "      <td>703</td>\n",
       "      <td>18.822</td>\n",
       "      <td>1.218371</td>\n",
       "      <td>5.270155e-09</td>\n",
       "    </tr>\n",
       "  </tbody>\n",
       "</table>\n",
       "</div>"
      ],
      "text/plain": [
       "                      Hispanic Number  Hispanic Percent  Hispanic Number AP  \\\n",
       "State                                                                         \n",
       "District of Columbia            12720           15.4485                 703   \n",
       "\n",
       "                      Hispanic Percent AP  Hispanic Participation Ratio  \\\n",
       "State                                                                     \n",
       "District of Columbia               18.822                      1.218371   \n",
       "\n",
       "                      Hispanic p-value  \n",
       "State                                   \n",
       "District of Columbia      5.270155e-09  "
      ]
     },
     "execution_count": 10,
     "metadata": {},
     "output_type": "execute_result"
    }
   ],
   "source": [
    "# Verify that Hispanic PR is <1 for all states\n",
    "df[df['Hispanic Participation Ratio']>1].filter(axis='columns', like='Hispanic')"
   ]
  },
  {
   "cell_type": "markdown",
   "id": "c975d510-5507-4b21-be3f-dc5521f22cbf",
   "metadata": {},
   "source": [
    "Given this surprise, we will take a quick detour to see how the demographics and size of student enrollment for District of Columbia compare to other states:"
   ]
  },
  {
   "cell_type": "code",
   "execution_count": 11,
   "id": "a6cfffe9-4997-48ab-8bc1-08b2bd143596",
   "metadata": {},
   "outputs": [
    {
     "data": {
      "text/html": [
       "<div>\n",
       "<style scoped>\n",
       "    .dataframe tbody tr th:only-of-type {\n",
       "        vertical-align: middle;\n",
       "    }\n",
       "\n",
       "    .dataframe tbody tr th {\n",
       "        vertical-align: top;\n",
       "    }\n",
       "\n",
       "    .dataframe thead th {\n",
       "        text-align: right;\n",
       "    }\n",
       "</style>\n",
       "<table border=\"1\" class=\"dataframe\">\n",
       "  <thead>\n",
       "    <tr style=\"text-align: right;\">\n",
       "      <th></th>\n",
       "      <th>Total</th>\n",
       "      <th>Native American Number</th>\n",
       "      <th>Native American Percent</th>\n",
       "      <th>Asian Number</th>\n",
       "      <th>Asian Percent</th>\n",
       "      <th>Hispanic Number</th>\n",
       "      <th>Hispanic Percent</th>\n",
       "      <th>Black Number</th>\n",
       "      <th>Black Percent</th>\n",
       "      <th>White Number</th>\n",
       "      <th>White Percent</th>\n",
       "      <th>Pacific Islander Number</th>\n",
       "      <th>Pacific Islander Percent</th>\n",
       "      <th>Multiracial Number</th>\n",
       "      <th>Multiracial Percent</th>\n",
       "      <th>Total AP</th>\n",
       "      <th>Native American Number AP</th>\n",
       "      <th>Native American Percent AP</th>\n",
       "      <th>Asian Number AP</th>\n",
       "      <th>Asian Percent AP</th>\n",
       "      <th>Hispanic Number AP</th>\n",
       "      <th>Hispanic Percent AP</th>\n",
       "      <th>Black Number AP</th>\n",
       "      <th>Black Percent AP</th>\n",
       "      <th>White Number AP</th>\n",
       "      <th>White Percent AP</th>\n",
       "      <th>Pacific Islander Number AP</th>\n",
       "      <th>Pacific Islander Percent AP</th>\n",
       "      <th>Multiracial Number AP</th>\n",
       "      <th>Multiracial Percent AP</th>\n",
       "      <th>Native American Participation Ratio</th>\n",
       "      <th>Asian Participation Ratio</th>\n",
       "      <th>Hispanic Participation Ratio</th>\n",
       "      <th>Black Participation Ratio</th>\n",
       "      <th>White Participation Ratio</th>\n",
       "      <th>Pacific Islander Participation Ratio</th>\n",
       "      <th>Multiracial Participation Ratio</th>\n",
       "      <th>Native American p-value</th>\n",
       "      <th>Asian p-value</th>\n",
       "      <th>Hispanic p-value</th>\n",
       "      <th>Black p-value</th>\n",
       "      <th>White p-value</th>\n",
       "      <th>Pacific Islander p-value</th>\n",
       "      <th>Multiracial p-value</th>\n",
       "    </tr>\n",
       "    <tr>\n",
       "      <th>State</th>\n",
       "      <th></th>\n",
       "      <th></th>\n",
       "      <th></th>\n",
       "      <th></th>\n",
       "      <th></th>\n",
       "      <th></th>\n",
       "      <th></th>\n",
       "      <th></th>\n",
       "      <th></th>\n",
       "      <th></th>\n",
       "      <th></th>\n",
       "      <th></th>\n",
       "      <th></th>\n",
       "      <th></th>\n",
       "      <th></th>\n",
       "      <th></th>\n",
       "      <th></th>\n",
       "      <th></th>\n",
       "      <th></th>\n",
       "      <th></th>\n",
       "      <th></th>\n",
       "      <th></th>\n",
       "      <th></th>\n",
       "      <th></th>\n",
       "      <th></th>\n",
       "      <th></th>\n",
       "      <th></th>\n",
       "      <th></th>\n",
       "      <th></th>\n",
       "      <th></th>\n",
       "      <th></th>\n",
       "      <th></th>\n",
       "      <th></th>\n",
       "      <th></th>\n",
       "      <th></th>\n",
       "      <th></th>\n",
       "      <th></th>\n",
       "      <th></th>\n",
       "      <th></th>\n",
       "      <th></th>\n",
       "      <th></th>\n",
       "      <th></th>\n",
       "      <th></th>\n",
       "      <th></th>\n",
       "    </tr>\n",
       "  </thead>\n",
       "  <tbody>\n",
       "    <tr>\n",
       "      <th>District of Columbia</th>\n",
       "      <td>82338</td>\n",
       "      <td>149</td>\n",
       "      <td>0.181</td>\n",
       "      <td>1211</td>\n",
       "      <td>1.4708</td>\n",
       "      <td>12720</td>\n",
       "      <td>15.4485</td>\n",
       "      <td>58140</td>\n",
       "      <td>70.6114</td>\n",
       "      <td>8447</td>\n",
       "      <td>10.2589</td>\n",
       "      <td>93</td>\n",
       "      <td>0.1129</td>\n",
       "      <td>1578</td>\n",
       "      <td>1.9165</td>\n",
       "      <td>3735</td>\n",
       "      <td>6</td>\n",
       "      <td>0.16064</td>\n",
       "      <td>122</td>\n",
       "      <td>3.2664</td>\n",
       "      <td>703</td>\n",
       "      <td>18.822</td>\n",
       "      <td>2259</td>\n",
       "      <td>60.4819</td>\n",
       "      <td>543</td>\n",
       "      <td>14.5382</td>\n",
       "      <td>6</td>\n",
       "      <td>0.1606</td>\n",
       "      <td>96</td>\n",
       "      <td>2.57028</td>\n",
       "      <td>0.887514</td>\n",
       "      <td>2.220832</td>\n",
       "      <td>1.218371</td>\n",
       "      <td>0.856546</td>\n",
       "      <td>1.41713</td>\n",
       "      <td>1.422498</td>\n",
       "      <td>1.341132</td>\n",
       "      <td>0.764912</td>\n",
       "      <td>1.057176e-20</td>\n",
       "      <td>5.270155e-09</td>\n",
       "      <td>5.612766e-44</td>\n",
       "      <td>1.129086e-18</td>\n",
       "      <td>0.374457</td>\n",
       "      <td>0.002857</td>\n",
       "    </tr>\n",
       "  </tbody>\n",
       "</table>\n",
       "</div>"
      ],
      "text/plain": [
       "                      Total  Native American Number  Native American Percent  \\\n",
       "State                                                                          \n",
       "District of Columbia  82338                     149                    0.181   \n",
       "\n",
       "                      Asian Number  Asian Percent  Hispanic Number  \\\n",
       "State                                                                \n",
       "District of Columbia          1211         1.4708            12720   \n",
       "\n",
       "                      Hispanic Percent  Black Number  Black Percent  \\\n",
       "State                                                                 \n",
       "District of Columbia           15.4485         58140        70.6114   \n",
       "\n",
       "                      White Number  White Percent  Pacific Islander Number  \\\n",
       "State                                                                        \n",
       "District of Columbia          8447        10.2589                       93   \n",
       "\n",
       "                      Pacific Islander Percent  Multiracial Number  \\\n",
       "State                                                                \n",
       "District of Columbia                    0.1129                1578   \n",
       "\n",
       "                      Multiracial Percent  Total AP  \\\n",
       "State                                                 \n",
       "District of Columbia               1.9165      3735   \n",
       "\n",
       "                      Native American Number AP  Native American Percent AP  \\\n",
       "State                                                                         \n",
       "District of Columbia                          6                     0.16064   \n",
       "\n",
       "                      Asian Number AP  Asian Percent AP  Hispanic Number AP  \\\n",
       "State                                                                         \n",
       "District of Columbia              122            3.2664                 703   \n",
       "\n",
       "                      Hispanic Percent AP  Black Number AP  Black Percent AP  \\\n",
       "State                                                                          \n",
       "District of Columbia               18.822             2259           60.4819   \n",
       "\n",
       "                      White Number AP  White Percent AP  \\\n",
       "State                                                     \n",
       "District of Columbia              543           14.5382   \n",
       "\n",
       "                      Pacific Islander Number AP  Pacific Islander Percent AP  \\\n",
       "State                                                                           \n",
       "District of Columbia                           6                       0.1606   \n",
       "\n",
       "                      Multiracial Number AP  Multiracial Percent AP  \\\n",
       "State                                                                 \n",
       "District of Columbia                     96                 2.57028   \n",
       "\n",
       "                      Native American Participation Ratio  \\\n",
       "State                                                       \n",
       "District of Columbia                             0.887514   \n",
       "\n",
       "                      Asian Participation Ratio  Hispanic Participation Ratio  \\\n",
       "State                                                                           \n",
       "District of Columbia                   2.220832                      1.218371   \n",
       "\n",
       "                      Black Participation Ratio  White Participation Ratio  \\\n",
       "State                                                                        \n",
       "District of Columbia                   0.856546                    1.41713   \n",
       "\n",
       "                      Pacific Islander Participation Ratio  \\\n",
       "State                                                        \n",
       "District of Columbia                              1.422498   \n",
       "\n",
       "                      Multiracial Participation Ratio  \\\n",
       "State                                                   \n",
       "District of Columbia                         1.341132   \n",
       "\n",
       "                      Native American p-value  Asian p-value  \\\n",
       "State                                                          \n",
       "District of Columbia                 0.764912   1.057176e-20   \n",
       "\n",
       "                      Hispanic p-value  Black p-value  White p-value  \\\n",
       "State                                                                  \n",
       "District of Columbia      5.270155e-09   5.612766e-44   1.129086e-18   \n",
       "\n",
       "                      Pacific Islander p-value  Multiracial p-value  \n",
       "State                                                                \n",
       "District of Columbia                  0.374457             0.002857  "
      ]
     },
     "metadata": {},
     "output_type": "display_data"
    }
   ],
   "source": [
    "with pd.option_context(\"display.max_columns\", None):\n",
    "    display(df.loc[['District of Columbia']])"
   ]
  },
  {
   "cell_type": "code",
   "execution_count": 12,
   "id": "0efa0071-e10f-4d42-9e44-7b3f9730bfc5",
   "metadata": {},
   "outputs": [
    {
     "data": {
      "text/plain": [
       "State\n",
       "District of Columbia    10.2589\n",
       "Hawaii                  12.8153\n",
       "New Mexico              23.6775\n",
       "California              24.0664\n",
       "Texas                   28.4501\n",
       "Name: White Percent, dtype: float64"
      ]
     },
     "execution_count": 12,
     "metadata": {},
     "output_type": "execute_result"
    }
   ],
   "source": [
    "# Does DC have some of the fewest white students? (Yes)\n",
    "df['White Percent'].sort_values().head()"
   ]
  },
  {
   "cell_type": "code",
   "execution_count": 13,
   "id": "0721669a-60b6-4b8b-b90a-2f165ee179bf",
   "metadata": {},
   "outputs": [
    {
     "data": {
      "text/plain": [
       "State\n",
       "District of Columbia    70.6114\n",
       "Mississippi             49.6869\n",
       "Louisiana               44.0924\n",
       "Georgia                 36.9957\n",
       "Maryland                34.7630\n",
       "Name: Black Percent, dtype: float64"
      ]
     },
     "execution_count": 13,
     "metadata": {},
     "output_type": "execute_result"
    }
   ],
   "source": [
    "# Does DC have some of the most black students? (Yes)\n",
    "df['Black Percent'].sort_values(ascending=False).head()"
   ]
  },
  {
   "cell_type": "code",
   "execution_count": 14,
   "id": "42796a96-2c8e-41c5-9f95-cca69be148f5",
   "metadata": {},
   "outputs": [
    {
     "data": {
      "text/plain": [
       "State\n",
       "District of Columbia     82338\n",
       "Vermont                  82913\n",
       "Wyoming                  94722\n",
       "North Dakota            110469\n",
       "Alaska                  131895\n",
       "Name: Total, dtype: int64"
      ]
     },
     "execution_count": 14,
     "metadata": {},
     "output_type": "execute_result"
    }
   ],
   "source": [
    "# Does DC have some of the fewest students enrolled? (Again, yes)\n",
    "df['Total'].sort_values().head()"
   ]
  },
  {
   "cell_type": "code",
   "execution_count": 15,
   "id": "c389d056-cbd2-49f0-83ee-c125d99960f4",
   "metadata": {},
   "outputs": [
    {
     "data": {
      "text/html": [
       "<div>\n",
       "<style scoped>\n",
       "    .dataframe tbody tr th:only-of-type {\n",
       "        vertical-align: middle;\n",
       "    }\n",
       "\n",
       "    .dataframe tbody tr th {\n",
       "        vertical-align: top;\n",
       "    }\n",
       "\n",
       "    .dataframe thead th {\n",
       "        text-align: right;\n",
       "    }\n",
       "</style>\n",
       "<table border=\"1\" class=\"dataframe\">\n",
       "  <thead>\n",
       "    <tr style=\"text-align: right;\">\n",
       "      <th></th>\n",
       "      <th>Hispanic Number</th>\n",
       "      <th>Hispanic Percent</th>\n",
       "      <th>Hispanic Number AP</th>\n",
       "      <th>Hispanic Percent AP</th>\n",
       "      <th>Hispanic Participation Ratio</th>\n",
       "      <th>Hispanic p-value</th>\n",
       "    </tr>\n",
       "    <tr>\n",
       "      <th>State</th>\n",
       "      <th></th>\n",
       "      <th></th>\n",
       "      <th></th>\n",
       "      <th></th>\n",
       "      <th></th>\n",
       "      <th></th>\n",
       "    </tr>\n",
       "  </thead>\n",
       "  <tbody>\n",
       "    <tr>\n",
       "      <th>Alaska</th>\n",
       "      <td>8802</td>\n",
       "      <td>6.6735</td>\n",
       "      <td>190</td>\n",
       "      <td>6.327</td>\n",
       "      <td>0.948078</td>\n",
       "      <td>0.441518</td>\n",
       "    </tr>\n",
       "  </tbody>\n",
       "</table>\n",
       "</div>"
      ],
      "text/plain": [
       "        Hispanic Number  Hispanic Percent  Hispanic Number AP  \\\n",
       "State                                                           \n",
       "Alaska             8802            6.6735                 190   \n",
       "\n",
       "        Hispanic Percent AP  Hispanic Participation Ratio  Hispanic p-value  \n",
       "State                                                                        \n",
       "Alaska                6.327                      0.948078          0.441518  "
      ]
     },
     "execution_count": 15,
     "metadata": {},
     "output_type": "execute_result"
    }
   ],
   "source": [
    "# With that out of the way, back to the original plan...\n",
    "# Look for states where the underrepresentation of Hispanic students is not statistically significant\n",
    "df[df['Hispanic p-value']>0.1].filter(axis='columns', like='Hispanic')"
   ]
  },
  {
   "cell_type": "markdown",
   "id": "868f87b2-865b-4141-b738-f7fda21bf546",
   "metadata": {},
   "source": [
    "**Takeaways:** DC is the only location where Hispanic students appear to be overrepresented, AND this result is statistically significant. Notably, DC has unique demographics:\n",
    "  * It has fewer students enrolled than any state\n",
    "  * It has a smaller percentage of white students (~10%) than any state\n",
    "  * It has a larger percentage of Black students (~70%) than any state\n",
    "  \n",
    "There are three states where the underrepresentation of Black students is statistically insignificant, and one for Hispanic students. Again, all these states involve a small number of students (< 200) of the given race taking an AP test."
   ]
  },
  {
   "cell_type": "markdown",
   "id": "dc62e98b-84c1-4382-bae7-9740d34e97eb",
   "metadata": {},
   "source": [
    "---\n",
    "---\n",
    "The last objective is to examine the statistical significance of white and Asian students being overrepresented in every state."
   ]
  },
  {
   "cell_type": "code",
   "execution_count": 16,
   "id": "dd2df0e6-517d-4242-bc77-9df5a3324916",
   "metadata": {},
   "outputs": [
    {
     "data": {
      "text/html": [
       "<div>\n",
       "<style scoped>\n",
       "    .dataframe tbody tr th:only-of-type {\n",
       "        vertical-align: middle;\n",
       "    }\n",
       "\n",
       "    .dataframe tbody tr th {\n",
       "        vertical-align: top;\n",
       "    }\n",
       "\n",
       "    .dataframe thead th {\n",
       "        text-align: right;\n",
       "    }\n",
       "</style>\n",
       "<table border=\"1\" class=\"dataframe\">\n",
       "  <thead>\n",
       "    <tr style=\"text-align: right;\">\n",
       "      <th></th>\n",
       "      <th>White Number</th>\n",
       "      <th>White Percent</th>\n",
       "      <th>White Number AP</th>\n",
       "      <th>White Percent AP</th>\n",
       "      <th>White Participation Ratio</th>\n",
       "      <th>White p-value</th>\n",
       "    </tr>\n",
       "    <tr>\n",
       "      <th>State</th>\n",
       "      <th></th>\n",
       "      <th></th>\n",
       "      <th></th>\n",
       "      <th></th>\n",
       "      <th></th>\n",
       "      <th></th>\n",
       "    </tr>\n",
       "  </thead>\n",
       "  <tbody>\n",
       "  </tbody>\n",
       "</table>\n",
       "</div>"
      ],
      "text/plain": [
       "Empty DataFrame\n",
       "Columns: [White Number, White Percent, White Number AP, White Percent AP, White Participation Ratio, White p-value]\n",
       "Index: []"
      ]
     },
     "execution_count": 16,
     "metadata": {},
     "output_type": "execute_result"
    }
   ],
   "source": [
    "# Verify that white students are overrepresented in all states\n",
    "df[df['White Participation Ratio']<1].filter(axis='columns', like='White')"
   ]
  },
  {
   "cell_type": "code",
   "execution_count": 17,
   "id": "e8ec3e77-c0cb-4b89-b488-160c821fb7c9",
   "metadata": {
    "tags": []
   },
   "outputs": [
    {
     "data": {
      "text/html": [
       "<div>\n",
       "<style scoped>\n",
       "    .dataframe tbody tr th:only-of-type {\n",
       "        vertical-align: middle;\n",
       "    }\n",
       "\n",
       "    .dataframe tbody tr th {\n",
       "        vertical-align: top;\n",
       "    }\n",
       "\n",
       "    .dataframe thead th {\n",
       "        text-align: right;\n",
       "    }\n",
       "</style>\n",
       "<table border=\"1\" class=\"dataframe\">\n",
       "  <thead>\n",
       "    <tr style=\"text-align: right;\">\n",
       "      <th></th>\n",
       "      <th>White Number</th>\n",
       "      <th>White Percent</th>\n",
       "      <th>White Number AP</th>\n",
       "      <th>White Percent AP</th>\n",
       "      <th>White Participation Ratio</th>\n",
       "      <th>White p-value</th>\n",
       "    </tr>\n",
       "    <tr>\n",
       "      <th>State</th>\n",
       "      <th></th>\n",
       "      <th></th>\n",
       "      <th></th>\n",
       "      <th></th>\n",
       "      <th></th>\n",
       "      <th></th>\n",
       "    </tr>\n",
       "  </thead>\n",
       "  <tbody>\n",
       "  </tbody>\n",
       "</table>\n",
       "</div>"
      ],
      "text/plain": [
       "Empty DataFrame\n",
       "Columns: [White Number, White Percent, White Number AP, White Percent AP, White Participation Ratio, White p-value]\n",
       "Index: []"
      ]
     },
     "execution_count": 17,
     "metadata": {},
     "output_type": "execute_result"
    }
   ],
   "source": [
    "# Look for states where the overrepresentation of white students is not statistically significant\n",
    "df[df['White p-value']>0.1].filter(axis='columns', like='White')"
   ]
  },
  {
   "cell_type": "code",
   "execution_count": 18,
   "id": "8fc33c99-0236-4e23-a2ff-60d375ef2fb0",
   "metadata": {},
   "outputs": [
    {
     "data": {
      "text/html": [
       "<div>\n",
       "<style scoped>\n",
       "    .dataframe tbody tr th:only-of-type {\n",
       "        vertical-align: middle;\n",
       "    }\n",
       "\n",
       "    .dataframe tbody tr th {\n",
       "        vertical-align: top;\n",
       "    }\n",
       "\n",
       "    .dataframe thead th {\n",
       "        text-align: right;\n",
       "    }\n",
       "</style>\n",
       "<table border=\"1\" class=\"dataframe\">\n",
       "  <thead>\n",
       "    <tr style=\"text-align: right;\">\n",
       "      <th></th>\n",
       "      <th>Asian Number</th>\n",
       "      <th>Asian Percent</th>\n",
       "      <th>Asian Number AP</th>\n",
       "      <th>Asian Percent AP</th>\n",
       "      <th>Asian Participation Ratio</th>\n",
       "      <th>Asian p-value</th>\n",
       "    </tr>\n",
       "    <tr>\n",
       "      <th>State</th>\n",
       "      <th></th>\n",
       "      <th></th>\n",
       "      <th></th>\n",
       "      <th></th>\n",
       "      <th></th>\n",
       "      <th></th>\n",
       "    </tr>\n",
       "  </thead>\n",
       "  <tbody>\n",
       "  </tbody>\n",
       "</table>\n",
       "</div>"
      ],
      "text/plain": [
       "Empty DataFrame\n",
       "Columns: [Asian Number, Asian Percent, Asian Number AP, Asian Percent AP, Asian Participation Ratio, Asian p-value]\n",
       "Index: []"
      ]
     },
     "execution_count": 18,
     "metadata": {},
     "output_type": "execute_result"
    }
   ],
   "source": [
    "# Verify that Asian students are overrepresented in all states\n",
    "df[df['Asian Participation Ratio']<1].filter(axis='columns', like='Asian')"
   ]
  },
  {
   "cell_type": "code",
   "execution_count": 19,
   "id": "fda9b89d-5c91-4c78-8f03-c1e9ee94418f",
   "metadata": {},
   "outputs": [
    {
     "data": {
      "text/html": [
       "<div>\n",
       "<style scoped>\n",
       "    .dataframe tbody tr th:only-of-type {\n",
       "        vertical-align: middle;\n",
       "    }\n",
       "\n",
       "    .dataframe tbody tr th {\n",
       "        vertical-align: top;\n",
       "    }\n",
       "\n",
       "    .dataframe thead th {\n",
       "        text-align: right;\n",
       "    }\n",
       "</style>\n",
       "<table border=\"1\" class=\"dataframe\">\n",
       "  <thead>\n",
       "    <tr style=\"text-align: right;\">\n",
       "      <th></th>\n",
       "      <th>Asian Number</th>\n",
       "      <th>Asian Percent</th>\n",
       "      <th>Asian Number AP</th>\n",
       "      <th>Asian Percent AP</th>\n",
       "      <th>Asian Participation Ratio</th>\n",
       "      <th>Asian p-value</th>\n",
       "    </tr>\n",
       "    <tr>\n",
       "      <th>State</th>\n",
       "      <th></th>\n",
       "      <th></th>\n",
       "      <th></th>\n",
       "      <th></th>\n",
       "      <th></th>\n",
       "      <th></th>\n",
       "    </tr>\n",
       "  </thead>\n",
       "  <tbody>\n",
       "  </tbody>\n",
       "</table>\n",
       "</div>"
      ],
      "text/plain": [
       "Empty DataFrame\n",
       "Columns: [Asian Number, Asian Percent, Asian Number AP, Asian Percent AP, Asian Participation Ratio, Asian p-value]\n",
       "Index: []"
      ]
     },
     "execution_count": 19,
     "metadata": {},
     "output_type": "execute_result"
    }
   ],
   "source": [
    "# Look for states where the overrepresentation of white students is not statistically significant\n",
    "df[df['Asian p-value']>0.1].filter(axis='columns', like='Asian')"
   ]
  },
  {
   "cell_type": "markdown",
   "id": "8e2b7b1f-5b33-41ef-b627-075f7d73a26e",
   "metadata": {},
   "source": [
    "**Takeaways:** White and Asian students are overrepresented in every state in a statistically significant way."
   ]
  }
 ],
 "metadata": {
  "kernelspec": {
   "display_name": "Python 3 (ipykernel)",
   "language": "python",
   "name": "python3"
  },
  "language_info": {
   "codemirror_mode": {
    "name": "ipython",
    "version": 3
   },
   "file_extension": ".py",
   "mimetype": "text/x-python",
   "name": "python",
   "nbconvert_exporter": "python",
   "pygments_lexer": "ipython3",
   "version": "3.10.5"
  }
 },
 "nbformat": 4,
 "nbformat_minor": 5
}
